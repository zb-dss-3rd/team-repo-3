{
 "cells": [
  {
   "cell_type": "code",
   "execution_count": 1,
   "id": "e35b3c68",
   "metadata": {
    "ExecuteTime": {
     "end_time": "2022-10-06T13:07:25.210665Z",
     "start_time": "2022-10-06T13:07:19.658646Z"
    }
   },
   "outputs": [
    {
     "name": "stdout",
     "output_type": "stream",
     "text": [
      "Collecting olefile\n",
      "  Downloading olefile-0.46.zip (112 kB)\n",
      "     -------------------------------------- 112.2/112.2 kB 6.8 MB/s eta 0:00:00\n",
      "  Preparing metadata (setup.py): started\n",
      "  Preparing metadata (setup.py): finished with status 'done'\n",
      "Building wheels for collected packages: olefile\n",
      "  Building wheel for olefile (setup.py): started\n",
      "  Building wheel for olefile (setup.py): finished with status 'done'\n",
      "  Created wheel for olefile: filename=olefile-0.46-py2.py3-none-any.whl size=35432 sha256=255572060abcfc1f0a949d9e3a67ffb678dd1277cc817f7961bb07876bad484e\n",
      "  Stored in directory: c:\\users\\ck12q\\appdata\\local\\pip\\cache\\wheels\\0b\\d8\\16\\1e2d32ad7455728b8af9efdb9d2a0c3d03cd8f2e4be0191b8c\n",
      "Successfully built olefile\n",
      "Installing collected packages: olefile\n",
      "Successfully installed olefile-0.46\n"
     ]
    }
   ],
   "source": [
    "!pip install olefile"
   ]
  },
  {
   "cell_type": "code",
   "execution_count": 4,
   "id": "ed3a76a9",
   "metadata": {
    "ExecuteTime": {
     "end_time": "2022-10-06T13:08:03.652371Z",
     "start_time": "2022-10-06T13:07:59.475922Z"
    }
   },
   "outputs": [
    {
     "name": "stderr",
     "output_type": "stream",
     "text": [
      "ERROR: Could not find a version that satisfies the requirement zlib (from versions: none)\n",
      "ERROR: No matching distribution found for zlib\n",
      "ERROR: Could not find a version that satisfies the requirement struct (from versions: none)\n",
      "ERROR: No matching distribution found for struct\n"
     ]
    }
   ],
   "source": [
    "!pip install zlib \n",
    "! pip install struct"
   ]
  },
  {
   "cell_type": "code",
   "execution_count": 5,
   "id": "712ac922",
   "metadata": {
    "ExecuteTime": {
     "end_time": "2022-10-06T13:08:09.871469Z",
     "start_time": "2022-10-06T13:08:09.852469Z"
    }
   },
   "outputs": [],
   "source": [
    "import olefile\n",
    "import zlib\n",
    "import struct\n",
    "\n",
    "def get_hwp_text(filename):\n",
    "    f = olefile.OleFileIO(filename)\n",
    "    dirs = f.listdir()\n",
    "\n",
    "    # HWP 파일 검증\n",
    "    if [\"FileHeader\"] not in dirs or \\\n",
    "       [\"\\x05HwpSummaryInformation\"] not in dirs:\n",
    "        raise Exception(\"Not Valid HWP.\")\n",
    "\n",
    "    # 문서 포맷 압축 여부 확인\n",
    "    header = f.openstream(\"FileHeader\")\n",
    "    header_data = header.read()\n",
    "    is_compressed = (header_data[36] & 1) == 1\n",
    "\n",
    "    # Body Sections 불러오기\n",
    "    nums = []\n",
    "    for d in dirs:\n",
    "        if d[0] == \"BodyText\":\n",
    "            nums.append(int(d[1][len(\"Section\"):]))\n",
    "    sections = [\"BodyText/Section\"+str(x) for x in sorted(nums)]\n",
    "\n",
    "    # 전체 text 추출\n",
    "    text = \"\"\n",
    "    for section in sections:\n",
    "        bodytext = f.openstream(section)\n",
    "        data = bodytext.read()\n",
    "        if is_compressed:\n",
    "            unpacked_data = zlib.decompress(data, -15)\n",
    "        else:\n",
    "            unpacked_data = data\n",
    "    \n",
    "        # 각 Section 내 text 추출    \n",
    "        section_text = \"\"\n",
    "        i = 0\n",
    "        size = len(unpacked_data)\n",
    "        while i < size:\n",
    "            header = struct.unpack_from(\"<I\", unpacked_data, i)[0]\n",
    "            rec_type = header & 0x3ff\n",
    "            rec_len = (header >> 20) & 0xfff\n",
    "\n",
    "            if rec_type in [67]:\n",
    "                rec_data = unpacked_data[i+4:i+4+rec_len]\n",
    "                section_text += rec_data.decode('utf-16')\n",
    "                section_text += \"\\n\"\n",
    "\n",
    "            i += 4 + rec_len\n",
    "\n",
    "        text += section_text\n",
    "        text += \"\\n\"\n",
    "\n",
    "    return text\n",
    "# [출처] [Python] 각종 문서에서 텍스트 추출하기|작성자 IML"
   ]
  },
  {
   "cell_type": "code",
   "execution_count": 7,
   "id": "4ca9c6c4",
   "metadata": {
    "ExecuteTime": {
     "end_time": "2022-10-06T13:10:41.244739Z",
     "start_time": "2022-10-06T13:10:41.222738Z"
    }
   },
   "outputs": [
    {
     "data": {
      "text/plain": [
       "'\\x02捤獥\\x00\\x00\\x00\\x00\\x02\\x02汤捯\\x00\\x00\\x00\\x00\\x02\\x10慤桥\\x00\\x00\\x00\\x00\\x10\\x10潴景\\x00\\x00\\x00\\x00\\x10\\x0b氠瑢\\x00\\x00\\x00\\x00\\x0b\\r\\n9급 국가직 공무원 건축계획      ◐ 2022년 04월 02일 필기 기출문제 ◑   전자문제집 CBT : www.comcbt.com\\r\\n\\x0b漠杳\\x00\\x00\\x00\\x00\\x0b\\r\\n\\x0b漠杳\\x00\\x00\\x00\\x00\\x0b\\r\\n최강 자격증 기출문제 전자문제집 CBT : www.comcbt.com\\r\\n1과목 : 과목 구분 없음\\r\\n1. 「노인복지법」상 노인복지시설 중 노인주거복지시설이 아닌 것은?\\r\\n\\xa0\\xa0\\xa0① 양로시설\\tڠ\\x00Ā\\x00\\x00\\x00\\t\\tྠ\\x00Ā\\x00\\x00\\x00\\t② 노인공동생활가정\\r\\n\\xa0\\xa0\\xa0③ 노인복지주택\\t༸\\x00Ā\\x00\\x00\\x00\\t④\\xa0노인요양시설\\r\\n2. 학교건축 학습공간계획에 있어서 열린교실 계획방법으로 옳지 않은 것은?\\r\\n\\xa0\\xa0\\xa0① 일반교실과 오픈스페이스를 하나의 기본 유닛(unit)으로 계획한다.\\r\\n\\xa0\\xa0\\xa0② 저·중·고학년별로 그루핑하여 계획한다.\\r\\n\\xa0\\xa0\\xa0③\\xa0모든 학습과 활동이 일반교실 내에서 긴밀하게 이루어지도록 계획한다.\\r\\n\\xa0\\xa0\\xa0④ 개방형 또는 가변형 칸막이(movable partition)를 계획한다.\\r\\n3. 「장애인·노인·임산부 등의 편의증진 보장에 관한 법률 시행규칙」상 장애인을 위한 편의시설에 대한 설명으로 옳지 않은 것은?\\r\\n\\xa0\\xa0\\xa0① 장애인 출입문의 전면 유효거리는 1.2m 이상으로 하여야 한다.\\r\\n\\xa0\\xa0\\xa0② 접근로의 기울기는 18분의1 이하이어야 하며, 다만 지형상 곤란한 경우에는 12분의1까지 완화할 수 있다.\\r\\n\\xa0\\xa0\\xa0③ 건물을 신축하는 경우, 장애인용 화장실의 대변기 전면에는 1.4m×1.4m 이상의 활동공간을 확보하여야 한다.\\r\\n\\xa0\\xa0\\xa0④\\xa0장애인용 승강기의 승강장바닥과 승강기바닥의 틈은 2cm 이하이어야 하며, 승강장 전면의 활동공간은 1.2m×1.2m 이상 확보하여야 한다.\\r\\n4. (가)에 해당하는 주거단지 계획 용어는?\\r\\n\\xa0\\xa0\\xa0\\x0b漠杳\\x00\\x00\\x00\\x00\\x0b\\r\\n\\xa0\\xa0\\xa0① 슈퍼블록(super block)\\t྄\\x00Ā\\x00\\x00\\x00\\t② 본엘프(Woonerf)\\r\\n\\xa0\\xa0\\xa0③\\xa0쿨데삭(Cul-de-sac)\\tͬ\\x00Ā\\x00\\x00\\x00\\t\\tྠ\\x00Ā\\x00\\x00\\x00\\t④ 커뮤니티(community)\\r\\n5. 주택법령상 도시형 생활주택에 대한 설명으로 옳은 것은?\\r\\n\\xa0\\xa0\\xa0① 도시형 생활주택이란 500세대 미만의 국민주택규모에 해당하는 주택을 말한다.\\r\\n\\xa0\\xa0\\xa0② 소형주택의 경우 세대별로 독립된 주거가 가능하도록 욕실 및 부엌을 설치하면 지하층에 세대를 설치할 수 있다.\\r\\n\\xa0\\xa0\\xa0③ 단지형 연립주택의 경우 건축위원회의 심의를 받은 경우에는 주택으로 쓰는 층수를 10개 층까지 건축할 수 있다.\\r\\n\\xa0\\xa0\\xa0④\\xa0소형주택과 주거전용면적이 85제곱미터를 초과하는 주택 1세대를 함께 건축하는 경우에 이 둘을 하나의 건축물에 건축할 수 있다.\\r\\n6. 도서관의 건축계획에 대한 설명으로 옳지 않은 것은?\\r\\n\\xa0\\xa0\\xa0① 도서관의 현대적 기능은 교육 및 연구시설을 넘어 지역사회와 연계된 공공문화활동의 중심체 역할을 하므로 이러한 특징을 건축계획에 반영할 수 있어야 한다.\\r\\n\\xa0\\xa0\\xa0②\\xa0도서관은 이용자 안전을 보장하고 도서보관이 용이하도록 접근에 대한 강한 통제와 감시가 확보되어야 한다.\\r\\n\\xa0\\xa0\\xa0③ 도서관은 이용자와 관리자, 자료의 동선이 교차되지 않도록 배치하는 것이 바람직하다.\\r\\n\\xa0\\xa0\\xa0④ 도서관 공간구성에서 중심 부분은 열람실 및 서고이며 미래의 확장 수요에 건축적으로 대응할 수 있어야 한다.\\r\\n7. 건물에서 공조방식의 결정요인에 대한 설명으로 옳지 않은 것은?\\r\\n\\xa0\\xa0\\xa0① 건물 설계방법이나 공조 설비계획에서 이루어지는 에너지 절약\\r\\n\\xa0\\xa0\\xa0② 각 존(zone)마다 실내의 온·습도 조건을 고려하여 제어하는 개별제어\\r\\n\\xa0\\xa0\\xa0③\\xa0공조구역별 공조계통과 내·외부 존(zone)을 통합하는 조닝(zoning)\\r\\n\\xa0\\xa0\\xa0④ 설비비, 운전비, 보수관리비, 시간 외 운전, 설비의 변경 등의 요인\\r\\n8. 아트리움의 장점이 아닌 것은?\\r\\n\\xa0\\xa0\\xa0① 천창을 통한 시각적 개방감을 줄 수 있다.\\r\\n\\xa0\\xa0\\xa0② 외기로부터 보호되어 외부공간보다 쾌적한 온열환경을 제공할 수 있다.\\r\\n\\xa0\\xa0\\xa0③\\xa0화재 등 재난 방재에 유리하다.\\r\\n\\xa0\\xa0\\xa0④ 휴식공간, 라운지, 실내정원, 전시, 공연 등 다양한 기능적 공간으로 활용할 수 있다.\\r\\n9. 먼셀 색채계에 따른 색채(color)의 속성에 대한 설명으로 옳지 않은 것은?\\r\\n\\xa0\\xa0\\xa0① 기본색(primary color)은 원색으로서 적색(red), 황색(yellow), 청색(blue)을 말하며, 기본색이 혼합하여 이루어진 2차색(secondary color) 중 녹색(green)은 황색(yellow)과 청색(blue)을 혼합한 것이다.\\r\\n\\xa0\\xa0\\xa0②\\xa0오렌지색(orange)과 자주색(violet)은 상호 보색(complimentary color)관계이다.\\r\\n\\xa0\\xa0\\xa0③ 먼셀 색입체(Munsell color solid)에서 명도(value)는 흑색, 회색, 백색의 차례로 배치되며, 흑색은 0, 백색은 10으로 표기된다.\\r\\n\\xa0\\xa0\\xa0④ 채도(chroma)는 색의 선명도를 나타낸 것으로서 먼셀 색입체(Munsell color solid)에서 중심축과 직각의 수평방향으로 표시된다.\\r\\n10. 배관 속에 흐르는 물질의 종류와 배관 식별색을 바르게 연결한 것은? (단, KS A 0503:2020 배관계의 식별표시를 따른다,)\\r\\n\\xa0\\xa0\\xa0\\xa0①\\xa0증기(S)－어두운 빨강\\t\\u0f70\\x00Ā\\x00\\x00\\x00\\t② 물(W)－하양\\r\\n\\xa0\\xa0\\xa0\\xa0③ 가스(G)－연한 주황\\t˜\\x00Ā\\x00\\x00\\x00\\t\\tྠ\\x00Ā\\x00\\x00\\x00\\t④ 공기(A)－초록\\r\\n11. 18세기 말 조선시대에 대두되었던 신진 학자들의 실학정신이 성곽 축조에 반영된 사례는?\\r\\n\\xa0\\xa0\\xa0\\xa0① 풍납토성\\tӜ\\x00Ā\\x00\\x00\\x00\\t\\tྠ\\x00Ā\\x00\\x00\\x00\\t② 부소산성\\r\\n\\xa0\\xa0\\xa0\\xa0③ 남한산성\\tӜ\\x00Ā\\x00\\x00\\x00\\t\\tྠ\\x00Ā\\x00\\x00\\x00\\t④\\xa0수원화성\\r\\n12. 공연장 무대와 객석의 평면 형식과 그에 대한 특징을 바르게 연결한 것은?\\r\\n\\xa0\\xa0\\xa0\\xa0\\x0b漠杳\\x00\\x00\\x00\\x00\\x0b\\r\\n\\xa0\\xa0\\xa0\\xa0① ㄱ - 아레나 타입        ② ㄴ - 오픈스테이지 타입\\r\\n\\xa0\\xa0\\xa0\\xa0③\\xa0ㄷ - 프로시니엄 타입\\xa0\\xa0\\xa0\\xa0④ ㄹ - 가변형 타입\\r\\n13. 건축조형원리에 대한 설명으로 옳지 않은 것은?\\r\\n\\xa0\\xa0\\xa0\\xa0① ‘축’은 공간 내 두 점으로 성립되고, 형태와 공간을 배열하는 데 중심이 되는 선을 말한다.\\r\\n\\xa0\\xa0\\xa0\\xa0②\\xa0‘리듬’은 서로 다른 형태 또는 공간이 반복패턴을 이루지 않고, 모티프의 특성을 활용하는 것을 말한다.\\r\\n\\xa0\\xa0\\xa0\\xa0③ ‘대칭’은 하나의 선(축) 또는 점을 중심으로 동일한 형태와 공간이 나누어지는 것을 말한다.\\r\\n\\xa0\\xa0\\xa0\\xa0④ ‘비례’는 부분과 부분 또는 부분과 전체와의 수량적 관계를 말한다.\\r\\n14. 트랩(trap)의 봉수파괴 원인이 아닌 것은?\\r\\n\\xa0\\xa0\\xa0\\xa0① 위생기구의 배수에 의한 사이펀작용\\r\\n\\xa0\\xa0\\xa0\\xa0② 이물질에 의한 모세관현상\\r\\n\\xa0\\xa0\\xa0\\xa0③ 장기간 미사용에 의한 증발\\r\\n\\xa0\\xa0\\xa0\\xa0④\\xa0낮은 기온에 의한 동결\\r\\n15. 건물들이 가로에 면하여 나란히 연속하여 입지한 경우, 바람이 가로에 빠르게 흐르는 현상은?\\r\\n\\xa0\\xa0\\xa0\\xa0① 벤투리 효과(Venturi effect)\\r\\n\\xa0\\xa0\\xa0\\xa0②\\xa0통로효과(channel effect)\\r\\n\\xa0\\xa0\\xa0\\xa0③ 차압효과(pressure connection effect)\\r\\n\\xa0\\xa0\\xa0\\xa0④ 피라미드 효과(pyramid effect)\\r\\n16. BIM(Building Information Modeling)에 대한 설명으로 옳지 않은 것은?\\r\\n\\xa0\\xa0\\xa0\\xa0① 신속한 의사결정을 가능하게 하여 중복작업 및 공사 지연을 감소시킬 수 있다.\\r\\n\\xa0\\xa0\\xa0\\xa0②\\xa0복잡한 곡면형태를 가진 비정형 건축의 경우 물량산출이 불가능하다.\\r\\n\\xa0\\xa0\\xa0\\xa0③ 시공 시 필요한 상세 정보를 공장에서 제작할 수 있는 데이터로 변환해 제공할 수 있다.\\r\\n\\xa0\\xa0\\xa0\\xa0④ 시공 시 부재 간의 충돌을 사전에 확인하고 시공품질을 향상시킬 수 있다.\\r\\n17. 「건축물의 피난·방화구조 등의 기준에 관한 규칙」상 연면적 200m2를 초과하는 건물에 설치하는 계단의 설치기준으로 옳지 않은 것은?\\r\\n\\xa0\\xa0\\xa0\\xa0①\\xa0높이가 3m를 넘는 계단에는 높이 3m 이내마다 유효너비 150cm 이상의 계단참을 설치할 것\\r\\n\\xa0\\xa0\\xa0\\xa0② 높이가 1m를 넘는 계단 및 계단참의 양옆에는 난간(벽 또는 이에 대치되는 것을 포함한다)을 설치할 것\\r\\n\\xa0\\xa0\\xa0\\xa0③ 너비가 3m를 넘는 계단에는 계단의 중간에 너비 3m 이내마다 난간을 설치하되, 계단의 단높이가 15cm 이하이고 계단의 단너비가 30cm 이상인 경우에는 그러하지 아니함\\r\\n\\xa0\\xa0\\xa0\\xa0④ 계단의 유효높이(계단의 바닥 마감면부터 상부 구조체의 하부 마감면까지의 연직방향의 높이를 말한다)는 2.1m 이상으로 할 것\\r\\n18. 주거단지 근린생활권에 대한 설명으로 옳지 않은 것은?\\r\\n\\xa0\\xa0\\xa0\\xa0① 인보구는 어린이 놀이터가 중심이 되는 단위이며 아파트의 경우 3~4층, 1~2동의 규모이다.\\r\\n\\xa0\\xa0\\xa0\\xa0② 근린분구는 일상 소비생활에 필요한 공동시설이 운영 가능한 단위이며 소비시설, 유치원, 후생시설 등을 설치한다.\\r\\n\\xa0\\xa0\\xa0\\xa0③\\xa0근린주구는 약 200ha의 면적에 초등학교를 중심으로 한 단위를 말하며 경찰서, 전화국 등의 공공시설이 포함된다.\\r\\n\\xa0\\xa0\\xa0\\xa0④ 주거단지의 생활권 체계는 인보구, 근린분구, 근린주구 순으로 위계가 형성된다.\\r\\n19. 한국의 대표적인 현대건축가와 그 설계 작품을 바르게 연결한 것은?\\r\\n\\xa0\\xa0\\xa0\\xa0①\\xa0김수근－자유센터\\r\\n\\xa0\\xa0\\xa0\\xa0② 류춘수－수졸당\\r\\n\\xa0\\xa0\\xa0\\xa0③ 승효상－주한 프랑스 대사관\\r\\n\\xa0\\xa0\\xa0\\xa0④ 김중업－상암 월드컵 경기장\\r\\n20. 범죄예방 환경설계(CPTED)에 대한 설명으로 옳지 않은 것은?\\r\\n\\xa0\\xa0\\xa0\\xa0①\\xa0범죄예방을 위한 전략으로 영역성 강화, 자연적 접근, 활동성 증대, 유지관리의 4개의 전략을 제시하고 있다.\\r\\n\\xa0\\xa0\\xa0\\xa0② 공적공간과 사적공간의 경계부분은 바닥에 단을 두거나 바닥의 재료 또는 색채를 다르게 하여 공간구분을 명확하게 인지할 수 있도록 한다.\\r\\n\\xa0\\xa0\\xa0\\xa0③ 오스카 뉴먼(O. Newman)이 제시한 ‘방어공간(Defensible Space)’이론은 범죄예방 환경설계의 발전에 기여하였다.\\r\\n\\xa0\\xa0\\xa0\\xa0④ 범죄예방 환경설계는 잠재적 범죄가 발생할 수 있는 환경요소의 다각적인 상황을 변화시키거나 개조함으로써 범죄를 예방하는 설계기법을 의미한다.\\r\\n전자문제집 CBT PC 버전\\xa0:\\xa0\\x03汫╨\\x00\\x00\\x00\\x00\\x03www.comcbt.com\\x04汫h\\x00\\x00\\x00\\x00\\x04\\n전자문제집 CBT 모바일 버전\\xa0:\\xa0\\x03汫╨\\x00\\x00\\x00\\x00\\x03m.comcbt.com\\x04汫h\\x00\\x00\\x00\\x00\\x04\\n기출문제 및 해설집 다운로드\\xa0:\\xa0\\x03汫╨\\x00\\x00\\x00\\x00\\x03www.comcbt.com/xe\\x04汫h\\x00\\x00\\x00\\x00\\x04\\n\\n전자문제집 CBT란?\\n종이 문제집이 아닌 인터넷으로 문제를 풀고 자동으로 채점하며 모의고사, 오답 노트, 해설까지 제공하는 무료 기출문제 학습 프로그램으로 실제 시험에서 사용하는 OMR 형식의 CBT를 제공합니다.\\nPC 버전 및 모바일 버전 완벽 연동\\n교사용/학생용 관리기능도 제공합니다.\\n\\n오답 및 오탈자가 수정된 최신 자료와 해설은 전자문제집 CBT 에서 확인하세요.\\r\\n\\n\\x0b氠瑢\\x00\\x00\\x00\\x00\\x0b\\r\\n1\\r\\n2\\r\\n3\\r\\n4\\r\\n5\\r\\n6\\r\\n7\\r\\n8\\r\\n9\\r\\n10\\r\\n④\\r\\n③\\r\\n④\\r\\n③\\r\\n④\\r\\n②\\r\\n③\\r\\n③\\r\\n②\\r\\n①\\r\\n11\\r\\n12\\r\\n13\\r\\n14\\r\\n15\\r\\n16\\r\\n17\\r\\n18\\r\\n19\\r\\n20\\r\\n④\\r\\n③\\r\\n②\\r\\n④\\r\\n②\\r\\n②\\r\\n①\\r\\n③\\r\\n①\\r\\n①\\r\\n\\n'"
      ]
     },
     "execution_count": 7,
     "metadata": {},
     "output_type": "execute_result"
    }
   ],
   "source": [
    "get_hwp_text('C:\\\\Users\\\\ck12q\\\\OneDrive\\\\Documents\\\\ds_study\\\\유사문제 찾기 알고리즘\\\\9급국가직공무원건축계획20220402(학생용).hwp')"
   ]
  },
  {
   "cell_type": "code",
   "execution_count": null,
   "id": "9f107d98",
   "metadata": {},
   "outputs": [],
   "source": []
  }
 ],
 "metadata": {
  "kernelspec": {
   "display_name": "Python 3 (ipykernel)",
   "language": "python",
   "name": "python3"
  },
  "language_info": {
   "codemirror_mode": {
    "name": "ipython",
    "version": 3
   },
   "file_extension": ".py",
   "mimetype": "text/x-python",
   "name": "python",
   "nbconvert_exporter": "python",
   "pygments_lexer": "ipython3",
   "version": "3.8.13"
  },
  "toc": {
   "base_numbering": 1,
   "nav_menu": {},
   "number_sections": true,
   "sideBar": true,
   "skip_h1_title": false,
   "title_cell": "Table of Contents",
   "title_sidebar": "Contents",
   "toc_cell": false,
   "toc_position": {},
   "toc_section_display": true,
   "toc_window_display": false
  },
  "varInspector": {
   "cols": {
    "lenName": 16,
    "lenType": 16,
    "lenVar": 40
   },
   "kernels_config": {
    "python": {
     "delete_cmd_postfix": "",
     "delete_cmd_prefix": "del ",
     "library": "var_list.py",
     "varRefreshCmd": "print(var_dic_list())"
    },
    "r": {
     "delete_cmd_postfix": ") ",
     "delete_cmd_prefix": "rm(",
     "library": "var_list.r",
     "varRefreshCmd": "cat(var_dic_list()) "
    }
   },
   "types_to_exclude": [
    "module",
    "function",
    "builtin_function_or_method",
    "instance",
    "_Feature"
   ],
   "window_display": false
  }
 },
 "nbformat": 4,
 "nbformat_minor": 5
}
